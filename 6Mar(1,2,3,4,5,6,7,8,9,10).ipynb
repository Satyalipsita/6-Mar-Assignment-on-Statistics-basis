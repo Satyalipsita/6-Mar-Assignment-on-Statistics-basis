{
  "metadata": {
    "language_info": {
      "codemirror_mode": {
        "name": "python",
        "version": 3
      },
      "file_extension": ".py",
      "mimetype": "text/x-python",
      "name": "python",
      "nbconvert_exporter": "python",
      "pygments_lexer": "ipython3",
      "version": "3.8"
    },
    "kernelspec": {
      "name": "python",
      "display_name": "Python (Pyodide)",
      "language": "python"
    }
  },
  "nbformat_minor": 4,
  "nbformat": 4,
  "cells": [
    {
      "cell_type": "code",
      "source": "#Q-1:Statistics is the science concerned with developing and studying\n  methods for collecting interpreting and presenting empirical data.",
      "metadata": {},
      "execution_count": null,
      "outputs": []
    },
    {
      "cell_type": "code",
      "source": "#Q-: There are 2 types of statistics \n 1:Descriptive: It consists of organizing and summerizng data.used to mesure mean ,median,mode\n 2:Inferential statistics:It cnsists of making conclusions on top of smaple data. used for Z-Test,T-test.\n        ",
      "metadata": {},
      "execution_count": null,
      "outputs": []
    },
    {
      "cell_type": "code",
      "source": "#Q-3::Data is bsaically 2 types \n1-Quantitative\n            (a:discreate, b:Continius)\n            continious eg- age is discreet and height is continious                             \n2-Qualitative(nominal,Ordinal)-eg-Gender,\n          feedback of some product will come under this category",
      "metadata": {},
      "execution_count": null,
      "outputs": []
    },
    {
      "cell_type": "code",
      "source": "#Q-4: 1:Gradeing in exam-Nominal data    \n      2-Colour of mangoes-Nominal data  \n      3-Height of students data-ratio Scale data\n      4-Number of mangoes imported_Ratio scale data ",
      "metadata": {},
      "execution_count": null,
      "outputs": []
    },
    {
      "cell_type": "code",
      "source": "#Q-5:Statisticians often refer to the levels of measurement of a variable,\nmeasure, or a scale to distinguish between measured variables that have different properties. \nThere are four basic levels: nominal, ordinal, interval, and ratio.\na:Nominal:Gender or colours where order doesnot matter\nb:ordinal: 1-Good,2-Bad,3-Worse,4-Worste(ranking is important)\nb-Interval: 20 degree,30 degree,40 degree(temp reading can be interval scale of data\nc-Ratio Scale-Marks of students\n            (20,34,56,67,89) can be considered as ratio scale \n             as ratio plays an important role.  between marks  in analysis        \n",
      "metadata": {},
      "execution_count": null,
      "outputs": []
    },
    {
      "cell_type": "code",
      "source": "#Q-6:6:It is important to understand the level of measurement\nof variables in research,\nbecause the level of measurement determines the type of statistical analysis\nthat can be conducted, and, therefore, the type of conclusions that can be drawn from the research\n Ex:From data first we need to identify thet ype of data then we can clasify as \na-ordinal: 1-Good,2-Bad,3-Worse,4-Worste\nb-Interval: 20 degree,30 degree,40 degree(temp reading can be interval scale of data\nc-Ratio Scale-Marks of students (20,34,56,67,89) can be considered as ratio scale as ratio                between marks play an important role in analysi",
      "metadata": {},
      "execution_count": null,
      "outputs": []
    },
    {
      "cell_type": "code",
      "source": "#Q-7: Nominal scale is a naming scale,\nwhere variables are simply “named” or labeled,with no specific order. \nOrdinal scale has all its variables in a specific order,\nbeyond just naming them. \nInterval scale offers labels order, as well as, a specific interval between each of its variable option.\"\n",
      "metadata": {},
      "execution_count": null,
      "outputs": []
    },
    {
      "cell_type": "code",
      "source": "#Q-8: Range Bar Chart is similar to the regular Bar Chart type of data visualization. \nThe key difference between them is that the latter plots values on the X axis one by one,\nwhereas the former, \\nthe Range Bar Chart type, depicts two values\non the X axis at a time — Low and High.",
      "metadata": {},
      "execution_count": null,
      "outputs": []
    },
    {
      "cell_type": "code",
      "source": "#Q-9: \n1-Descriptive Statistics-- It consists of organizing and summerizng data.\n   used to mesure mean ,median,mode\n2-Inferential Statistics--It cnsists of making conclusions on top of smaple data.\nUsed for Z-Test,T-test fot reaching to conclusion",
      "metadata": {},
      "execution_count": null,
      "outputs": []
    },
    {
      "cell_type": "code",
      "source": "#Q-10:A measure of central tendency is a single value that attempts to describe a set of\ndata by identifying the central position within that set of data.\nAs such,measures of central tendency are sometimes called measures of central location.\nThey are also classed as summary statistics.",
      "metadata": {},
      "execution_count": null,
      "outputs": []
    }
  ]
}